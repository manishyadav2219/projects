{
  "nbformat": 4,
  "nbformat_minor": 0,
  "metadata": {
    "colab": {
      "name": "MINOR2.ipynb",
      "version": "0.3.2",
      "provenance": []
    },
    "language_info": {
      "codemirror_mode": {
        "name": "ipython",
        "version": 3
      },
      "file_extension": ".py",
      "mimetype": "text/x-python",
      "name": "python",
      "nbconvert_exporter": "python",
      "pygments_lexer": "ipython3",
      "version": "3.6.6"
    },
    "kernelspec": {
      "display_name": "Python 3",
      "language": "python",
      "name": "python3"
    }
  },
  "cells": [
    {
      "cell_type": "code",
      "metadata": {
        "id": "CaxxCFeIW5pl",
        "colab_type": "code",
        "outputId": "c44d4fa0-7ec8-437d-8bcf-f72227dd671c",
        "colab": {
          "base_uri": "https://localhost:8080/",
          "height": 34
        }
      },
      "source": [
        "import numpy as np\n",
        "import pandas as pd\n",
        "from keras.models import Sequential\n",
        "from keras.layers import Conv2D, MaxPooling2D\n",
        "from keras.layers import Dropout, Flatten, Dense\n",
        "from keras.optimizers import SGD\n",
        "from keras.preprocessing.image import ImageDataGenerator\n",
        "from sklearn.metrics import roc_auc_score\n",
        "from keras.layers import Input\n",
        "import keras\n",
        "from keras.models import Model"
      ],
      "execution_count": 0,
      "outputs": [
        {
          "output_type": "stream",
          "text": [
            "Using TensorFlow backend.\n"
          ],
          "name": "stderr"
        }
      ]
    },
    {
      "cell_type": "code",
      "metadata": {
        "id": "h_B_HnCiW5qB",
        "colab_type": "code",
        "colab": {}
      },
      "source": [
        "#image augmentation \n",
        "#increasing 1000 images in each class\n",
        "import random\n",
        "import os\n",
        "from skimage import io\n",
        "import random\n",
        "from scipy import ndarray\n",
        "import skimage as sk\n",
        "from skimage import transform\n",
        "from skimage import util\n",
        "from skimage.util import random_noise\n",
        "from skimage.transform import rotate\n",
        "import cv2\n",
        "# our folder path containing some images\n",
        "folder_path = 'G:\\state-farm-distracted-driver-detection\\imgs2\\c9'\n",
        "# the number of file to generate\n",
        "num_files_desired = 1000\n",
        "\n",
        "# loop on all files of the folder and build a list of files paths\n",
        "images = [os.path.join(folder_path, f) for f in os.listdir(folder_path) if os.path.isfile(os.path.join(folder_path, f))]\n",
        "num_generated_files = 0\n",
        "image_to_transform=[]\n",
        "while num_generated_files <= num_files_desired:\n",
        "    # random image from the folder\n",
        "    image_path = random.choice(images)\n",
        "    # read image as an two dimensional array of pixels\n",
        "    x= cv2.imread(image_path)\n",
        "    image_to_transform.append(x)\n",
        "    num_generated_files=num_generated_files+1\n",
        "    #print(num_generated_files)"
      ],
      "execution_count": 0,
      "outputs": []
    },
    {
      "cell_type": "code",
      "metadata": {
        "id": "K7wSoxUPW5qN",
        "colab_type": "code",
        "colab": {}
      },
      "source": [
        "#print(type(image_to_transform))\n",
        "img=np.array(image_to_transform)"
      ],
      "execution_count": 0,
      "outputs": []
    },
    {
      "cell_type": "code",
      "metadata": {
        "id": "8sgijos-W5qa",
        "colab_type": "code",
        "colab": {}
      },
      "source": [
        "import cv2\n",
        "folder_path='G:\\state-farm-distracted-driver-detection\\imgs2\\c9'\n",
        "i=0\n",
        "new_file_path = '%s/augmented_image_%i.jpg' % (folder_path, num_generated_files)\n",
        "print(new_file_path)\n",
        "# write image to the disk\n",
        "x=32000\n",
        "for i in range(1001):\n",
        "    new_file_path = '%s/img_%s.jpg' % (folder_path,x)\n",
        "    x=x+1\n",
        "    sk.io.imsave(new_file_path, img[i])"
      ],
      "execution_count": 0,
      "outputs": []
    },
    {
      "cell_type": "code",
      "metadata": {
        "id": "ySY0u8K3W5ql",
        "colab_type": "code",
        "colab": {}
      },
      "source": [
        "train_datagen = ImageDataGenerator(\n",
        "    rescale = 1./255,\n",
        "    shear_range = 0.4, \n",
        "    zoom_range = 0.3,\n",
        "    horizontal_flip = True,\n",
        "    validation_split=0.2) \n",
        "\n",
        "test_datagen = ImageDataGenerator(rescale = 1./255)"
      ],
      "execution_count": 0,
      "outputs": []
    },
    {
      "cell_type": "code",
      "metadata": {
        "id": "BQnL5Uo-W5qu",
        "colab_type": "code",
        "outputId": "fbcc5089-e4b6-43a0-b69f-00384b1b0433",
        "colab": {}
      },
      "source": [
        "train_generator = train_datagen.flow_from_directory(\n",
        "    'G:\\state-farm-distracted-driver-detection\\imgs',\n",
        "    target_size = (32, 32),\n",
        "    color_mode = 'rgb',\n",
        "    batch_size = 32,\n",
        "    class_mode='categorical',\n",
        "    subset='training'\n",
        "    )\n",
        "validation_generator = train_datagen.flow_from_directory(\n",
        "    'G:\\state-farm-distracted-driver-detection\\imgs',\n",
        "    target_size = (32, 32),\n",
        "    color_mode = 'rgb',\n",
        "    batch_size = 32,\n",
        "    class_mode = 'categorical',\n",
        "    subset='validation')"
      ],
      "execution_count": 0,
      "outputs": [
        {
          "output_type": "stream",
          "text": [
            "Found 25764 images belonging to 10 classes.\n",
            "Found 6436 images belonging to 10 classes.\n"
          ],
          "name": "stdout"
        }
      ]
    },
    {
      "cell_type": "code",
      "metadata": {
        "scrolled": true,
        "id": "_hR5kde3W5q3",
        "colab_type": "code",
        "colab": {}
      },
      "source": [
        "import cv2\n",
        "import matplotlib.pyplot as plt\n",
        "batch_size=32\n",
        "from keras.callbacks import History \n",
        "history = History()"
      ],
      "execution_count": 0,
      "outputs": []
    },
    {
      "cell_type": "code",
      "metadata": {
        "id": "SnirVSu0W5q7",
        "colab_type": "code",
        "outputId": "3b13867d-6565-4be1-9545-e036225d37c1",
        "colab": {}
      },
      "source": [
        "#VGG16\n",
        "batch_size=32\n",
        "num_val_samples=22424\n",
        "model = Sequential()\n",
        "model.add(Conv2D(32, (3,3), input_shape = (32, 32, 3), activation = 'relu'))\n",
        "model.add(MaxPooling2D(pool_size = (2,2)))\n",
        "\n",
        "model.add(Conv2D(32, (3,3), activation = 'relu'))\n",
        "model.add(MaxPooling2D(pool_size = (2,2)))\n",
        "\n",
        "model.add(Conv2D(64, (3,3), activation = 'relu'))\n",
        "model.add(MaxPooling2D(pool_size=(2,2)))\n",
        "\n",
        "model.add(Flatten())\n",
        "model.add(Dense(64,activation = 'relu'))\n",
        "model.add(Dropout(0.5))\n",
        "model.add(Dense(10, activation = 'softmax'))\n",
        "\n",
        "model.compile(loss = 'categorical_crossentropy',\n",
        "              optimizer = 'rmsprop',\n",
        "              metrics = ['accuracy'])\n",
        "\n",
        "history=model.fit_generator(train_generator, samples_per_epoch=25764, nb_epoch=10, \n",
        "                    validation_data=validation_generator, nb_val_samples=800)"
      ],
      "execution_count": 0,
      "outputs": [
        {
          "output_type": "stream",
          "text": [
            "C:\\Users\\ACER\\Anaconda3\\lib\\site-packages\\ipykernel_launcher.py:23: UserWarning: The semantics of the Keras 2 argument `steps_per_epoch` is not the same as the Keras 1 argument `samples_per_epoch`. `steps_per_epoch` is the number of batches to draw from the generator at each epoch. Basically steps_per_epoch = samples_per_epoch/batch_size. Similarly `nb_val_samples`->`validation_steps` and `val_samples`->`steps` arguments have changed. Update your method calls accordingly.\n",
            "C:\\Users\\ACER\\Anaconda3\\lib\\site-packages\\ipykernel_launcher.py:23: UserWarning: Update your `fit_generator` call to the Keras 2 API: `fit_generator(<keras_pre..., validation_data=<keras_pre..., steps_per_epoch=805, epochs=10, validation_steps=800)`\n"
          ],
          "name": "stderr"
        },
        {
          "output_type": "stream",
          "text": [
            "Epoch 1/10\n",
            "805/805 [==============================] - 688s 854ms/step - loss: 2.0793 - acc: 0.2201 - val_loss: 1.6178 - val_acc: 0.4237\n",
            "Epoch 2/10\n",
            "805/805 [==============================] - 493s 613ms/step - loss: 1.5415 - acc: 0.4327 - val_loss: 1.1992 - val_acc: 0.5998\n",
            "Epoch 3/10\n",
            "805/805 [==============================] - 489s 607ms/step - loss: 1.2591 - acc: 0.5471 - val_loss: 0.9681 - val_acc: 0.6792\n",
            "Epoch 4/10\n",
            "805/805 [==============================] - 664s 825ms/step - loss: 1.0572 - acc: 0.6300 - val_loss: 0.8053 - val_acc: 0.7256\n",
            "Epoch 5/10\n",
            "805/805 [==============================] - 608s 755ms/step - loss: 0.9299 - acc: 0.6796 - val_loss: 0.6949 - val_acc: 0.7649\n",
            "Epoch 6/10\n",
            "805/805 [==============================] - 629s 781ms/step - loss: 0.8426 - acc: 0.7115 - val_loss: 0.6481 - val_acc: 0.7806\n",
            "Epoch 7/10\n",
            "805/805 [==============================] - 490s 608ms/step - loss: 0.7765 - acc: 0.7384 - val_loss: 0.5987 - val_acc: 0.8034\n",
            "Epoch 8/10\n",
            "805/805 [==============================] - 451s 561ms/step - loss: 0.7313 - acc: 0.7560 - val_loss: 0.5732 - val_acc: 0.8064\n",
            "Epoch 9/10\n",
            "805/805 [==============================] - 433s 538ms/step - loss: 0.6878 - acc: 0.7728 - val_loss: 0.5302 - val_acc: 0.8238\n",
            "Epoch 10/10\n",
            "805/805 [==============================] - 450s 559ms/step - loss: 0.6739 - acc: 0.7767 - val_loss: 0.4727 - val_acc: 0.8457\n"
          ],
          "name": "stdout"
        }
      ]
    },
    {
      "cell_type": "code",
      "metadata": {
        "id": "lsM9jv12W5rB",
        "colab_type": "code",
        "outputId": "2391d4b9-2690-4a15-af7e-1001262d971a",
        "colab": {}
      },
      "source": [
        "import matplotlib.pyplot as plt\n",
        "loss = history.history['loss']\n",
        "val_loss = history.history['val_loss']\n",
        "epochs = range(1, len(loss) + 1)\n",
        "plt.plot(epochs, loss, color='red', label='Training loss')\n",
        "plt.plot(epochs, val_loss, color='green', label='Validation loss')\n",
        "plt.title('Training and validation loss')\n",
        "plt.xlabel('Epochs')\n",
        "plt.ylabel('Loss')\n",
        "plt.legend()\n",
        "plt.show()"
      ],
      "execution_count": 0,
      "outputs": [
        {
          "output_type": "display_data",
          "data": {
            "image/png": "[encoded data removed]",
            "text/plain": [
              "<Figure size 432x288 with 1 Axes>"
            ]
          },
          "metadata": {
            "tags": []
          }
        }
      ]
    },
    {
      "cell_type": "code",
      "metadata": {
        "id": "eS4vjluAW5rH",
        "colab_type": "code",
        "outputId": "fd020a1a-4ce6-4b1c-cc7a-1e3728176a3b",
        "colab": {}
      },
      "source": [
        "acc = history.history['acc']\n",
        "val_acc = history.history['val_acc']\n",
        "plt.plot(epochs, acc, color='red', label='Training acc')\n",
        "plt.plot(epochs, val_acc, color='green', label='Validation acc')\n",
        "plt.title('Training and validation accuracy')\n",
        "plt.xlabel('Epochs')\n",
        "plt.ylabel('Loss')\n",
        "plt.legend()\n",
        "plt.show()"
      ],
      "execution_count": 0,
      "outputs": [
        {
          "output_type": "display_data",
          "data": {
            "image/png": "[encoded data removed]",
            "text/plain": [
              "<Figure size 432x288 with 1 Axes>"
            ]
          },
          "metadata": {
            "tags": []
          }
        }
      ]
    },
    {
      "cell_type": "code",
      "metadata": {
        "id": "bCmQr-yHW5rN",
        "colab_type": "code",
        "outputId": "a4036ae8-708c-4102-cfe8-4ac20a5bbcf2",
        "colab": {}
      },
      "source": [
        "model.save('model.h5')\n",
        "model_json = model.to_json()\n",
        "with open(\"model.json\", \"w\") as json_file:\n",
        "    json_file.write(model_json)\n",
        "# serialize weights to HDF5\n",
        "model.save_weights(\"model.h5\")\n",
        "print(\"Saved model to disk\")"
      ],
      "execution_count": 0,
      "outputs": [
        {
          "output_type": "stream",
          "text": [
            "Saved model to disk\n"
          ],
          "name": "stdout"
        }
      ]
    },
    {
      "cell_type": "code",
      "metadata": {
        "id": "KYVKX-4nW5rT",
        "colab_type": "code",
        "outputId": "705c1eb5-8819-487b-fadf-3ca59758e496",
        "colab": {}
      },
      "source": [
        "# load json and create model\n",
        "from keras.models import model_from_json\n",
        "json_file = open('model.json', 'r')\n",
        "loaded_model_json = json_file.read()\n",
        "json_file.close()\n",
        "loaded_model = model_from_json(loaded_model_json)\n",
        "# load weights into new model\n",
        "loaded_model.load_weights(\"model.h5\")\n",
        "print(\"Loaded model from disk\")"
      ],
      "execution_count": 0,
      "outputs": [
        {
          "output_type": "stream",
          "text": [
            "Loaded model from disk\n"
          ],
          "name": "stdout"
        }
      ]
    },
    {
      "cell_type": "code",
      "metadata": {
        "id": "oE4Ko2QGW5rZ",
        "colab_type": "code",
        "outputId": "296f5b92-5e27-4d13-c20d-baa4e94495a3",
        "colab": {}
      },
      "source": [
        "loss= model.evaluate_generator(validation_generator,steps=800)\n",
        "print(\"Loss: \" + str(loss[0]) + \"     Accuracy\" + str(loss[1]))"
      ],
      "execution_count": 0,
      "outputs": [
        {
          "output_type": "stream",
          "text": [
            "Loss: 0.4745022956625665     Accuracy0.845064344005022\n"
          ],
          "name": "stdout"
        }
      ]
    },
    {
      "cell_type": "code",
      "metadata": {
        "scrolled": true,
        "id": "GCbjeGlUW5re",
        "colab_type": "code",
        "outputId": "65b454e9-4cf4-4361-8ccd-f8cfbb492ddc",
        "colab": {}
      },
      "source": [
        "from keras.preprocessing import image\n",
        "import numpy as np\n",
        "from keras.models import load_model\n",
        "from keras.models import Model\n",
        "#model = load_model('model.h5')\n",
        "test_image =image.load_img('G:\\state-farm-distracted-driver-detection\\imgabc.jpg',target_size = (32,32))\n",
        "test_image = image.img_to_array(test_image)\n",
        "test_image = np.expand_dims(test_image,axis=0)\n",
        "images = np.vstack([test_image])\n",
        "classes =loaded_model.predict(images)\n",
        "print (classes)"
      ],
      "execution_count": 0,
      "outputs": [
        {
          "output_type": "stream",
          "text": [
            "[[0. 1. 0. 0. 0. 0. 0. 0. 0. 0.]]\n"
          ],
          "name": "stdout"
        }
      ]
    },
    {
      "cell_type": "code",
      "metadata": {
        "id": "vh2DiR5oW5sb",
        "colab_type": "code",
        "outputId": "0ee79939-d38f-4dde-b5ea-8d8935926a24",
        "colab": {}
      },
      "source": [
        "#Inception\n",
        "train_datagen = ImageDataGenerator(\n",
        "    rescale = 1./255,\n",
        "    shear_range = 0.4, # random application of shearing\n",
        "    zoom_range = 0.3,\n",
        "    horizontal_flip = True,\n",
        "    validation_split=0.2) # randomly flipping half of the images horizontally\n",
        "\n",
        "# data generator for test set\n",
        "test_datagen = ImageDataGenerator(rescale = 1./255)\n",
        "\n",
        "train_generator3 = train_datagen.flow_from_directory(\n",
        "    'G:\\state-farm-distracted-driver-detection\\imgs',\n",
        "    target_size = (32, 32),\n",
        "    color_mode = 'rgb',\n",
        "    batch_size = 32,\n",
        "    class_mode='categorical',\n",
        "    subset='training'\n",
        "    )\n",
        "validation_generator3 = train_datagen.flow_from_directory(\n",
        "      'G:\\state-farm-distracted-driver-detection\\imgs',\n",
        "    target_size = (32, 32),\n",
        "    color_mode = 'rgb',\n",
        "    batch_size = 32,\n",
        "    class_mode = 'categorical',\n",
        "    subset='validation')\n",
        "\n",
        "input1 = Input(shape = (32, 32, 3))\n",
        "\n",
        "layer_1 = Conv2D(64, (1,1), padding='same', activation='relu')(input1)\n",
        "layer_1 = Conv2D(64, (3,3), padding='same', activation='relu')(layer_1)\n",
        "layer_2 = Conv2D(64, (1,1), padding='same', activation='relu')(input1)\n",
        "layer_2 = Conv2D(64, (5,5), padding='same', activation='relu')(layer_2)\n",
        "layer_3 = MaxPooling2D((3,3), strides=(1,1), padding='same')(input1)\n",
        "layer_3 = Conv2D(64, (1,1), padding='same', activation='relu')(layer_3)\n",
        "\n",
        "output = keras.layers.concatenate([layer_1, layer_2, layer_3], axis = 3)\n",
        "\n",
        "output = Flatten()(output)\n",
        "out    = Dense(10, activation='softmax')(output)\n",
        "\n",
        "model2 = Model(inputs = input1, outputs = out)\n",
        "\n",
        "from keras.optimizers import SGD\n",
        "epochs = 10\n",
        "alpha = 0.01\n",
        "decay = alpha/epochs\n",
        "sgd = SGD(lr=alpha, momentum=0.9, decay=decay, nesterov=False)\n",
        "model2.compile(loss='categorical_crossentropy', optimizer=sgd, metrics=['accuracy'])\n",
        "history=model2.fit_generator(train_generator3, samples_per_epoch=25764, nb_epoch=epochs, \n",
        "                    validation_data=validation_generator3, nb_val_samples=800)"
      ],
      "execution_count": 0,
      "outputs": [
        {
          "output_type": "stream",
          "text": [
            "Found 25764 images belonging to 10 classes.\n",
            "Found 6436 images belonging to 10 classes.\n"
          ],
          "name": "stdout"
        },
        {
          "output_type": "stream",
          "text": [
            "C:\\Users\\ACER\\Anaconda3\\lib\\site-packages\\ipykernel_launcher.py:50: UserWarning: The semantics of the Keras 2 argument `steps_per_epoch` is not the same as the Keras 1 argument `samples_per_epoch`. `steps_per_epoch` is the number of batches to draw from the generator at each epoch. Basically steps_per_epoch = samples_per_epoch/batch_size. Similarly `nb_val_samples`->`validation_steps` and `val_samples`->`steps` arguments have changed. Update your method calls accordingly.\n",
            "C:\\Users\\ACER\\Anaconda3\\lib\\site-packages\\ipykernel_launcher.py:50: UserWarning: Update your `fit_generator` call to the Keras 2 API: `fit_generator(<keras_pre..., validation_data=<keras_pre..., steps_per_epoch=805, epochs=10, validation_steps=800)`\n"
          ],
          "name": "stderr"
        },
        {
          "output_type": "stream",
          "text": [
            "Epoch 1/10\n",
            "805/805 [==============================] - 1558s 2s/step - loss: 1.7459 - acc: 0.3886 - val_loss: 1.1894 - val_acc: 0.6028\n",
            "Epoch 2/10\n",
            "805/805 [==============================] - 1188s 1s/step - loss: 0.9483 - acc: 0.6916 - val_loss: 0.7811 - val_acc: 0.7486\n",
            "Epoch 3/10\n",
            "805/805 [==============================] - 1198s 1s/step - loss: 0.6471 - acc: 0.7984 - val_loss: 0.5748 - val_acc: 0.8184\n",
            "Epoch 4/10\n",
            "805/805 [==============================] - 1516s 2s/step - loss: 0.4974 - acc: 0.8451 - val_loss: 0.4651 - val_acc: 0.8549\n",
            "Epoch 5/10\n",
            "805/805 [==============================] - 1609s 2s/step - loss: 0.4174 - acc: 0.8728 - val_loss: 0.4006 - val_acc: 0.8761\n",
            "Epoch 6/10\n",
            "805/805 [==============================] - 1277s 2s/step - loss: 0.3584 - acc: 0.8920 - val_loss: 0.3561 - val_acc: 0.8902\n",
            "Epoch 7/10\n",
            "805/805 [==============================] - 1548s 2s/step - loss: 0.3193 - acc: 0.9052 - val_loss: 0.3197 - val_acc: 0.9038\n",
            "Epoch 8/10\n",
            "805/805 [==============================] - 1534s 2s/step - loss: 0.2875 - acc: 0.9149 - val_loss: 0.3086 - val_acc: 0.9083\n",
            "Epoch 9/10\n",
            "805/805 [==============================] - 1258s 2s/step - loss: 0.2639 - acc: 0.9224 - val_loss: 0.2795 - val_acc: 0.9176\n",
            "Epoch 10/10\n",
            "805/805 [==============================] - 1217s 2s/step - loss: 0.2391 - acc: 0.9303 - val_loss: 0.2564 - val_acc: 0.9256\n"
          ],
          "name": "stdout"
        }
      ]
    },
    {
      "cell_type": "code",
      "metadata": {
        "id": "mLqhTkgAW5sg",
        "colab_type": "code",
        "outputId": "66c0afdc-bae2-4312-b5bf-40e921c102ea",
        "colab": {}
      },
      "source": [
        "model2.save('model2.h5')\n",
        "model2_json = model2.to_json()\n",
        "with open(\"model2.json\", \"w\") as json_file:\n",
        "    json_file.write(model2_json)\n",
        "# serialize weights to HDF5\n",
        "model2.save_weights(\"model2.h5\")\n",
        "print(\"Saved model to disk\")"
      ],
      "execution_count": 0,
      "outputs": [
        {
          "output_type": "stream",
          "text": [
            "Saved model to disk\n"
          ],
          "name": "stdout"
        }
      ]
    },
    {
      "cell_type": "code",
      "metadata": {
        "id": "gN-1UABoW5sk",
        "colab_type": "code",
        "outputId": "a4991f55-93cf-418d-c90a-fd34343a369e",
        "colab": {}
      },
      "source": [
        "from keras.models import model_from_json\n",
        "json_file = open('model2.json', 'r')\n",
        "loaded_model_json = json_file.read()\n",
        "json_file.close()\n",
        "loaded_model2 = model_from_json(loaded_model_json)\n",
        "# load weights into new model\n",
        "loaded_model2.load_weights(\"model2.h5\")\n",
        "print(\"Loaded model from disk\")"
      ],
      "execution_count": 0,
      "outputs": [
        {
          "output_type": "stream",
          "text": [
            "Loaded model from disk\n"
          ],
          "name": "stdout"
        }
      ]
    },
    {
      "cell_type": "code",
      "metadata": {
        "id": "XTRB1co6W5sr",
        "colab_type": "code",
        "outputId": "473fb83c-73b5-471f-c743-7b447ecf22f6",
        "colab": {}
      },
      "source": [
        "import matplotlib.pyplot as plt\n",
        "loss = history.history['loss']\n",
        "val_loss = history.history['val_loss']\n",
        "epochs = range(1, len(loss) + 1)\n",
        "plt.plot(epochs, loss, color='red', label='Training loss')\n",
        "plt.plot(epochs, val_loss, color='green', label='Validation loss')\n",
        "plt.title('Training and validation loss')\n",
        "plt.xlabel('Epochs')\n",
        "plt.ylabel('Loss')\n",
        "plt.legend()\n",
        "plt.show()"
      ],
      "execution_count": 0,
      "outputs": [
        {
          "output_type": "display_data",
          "data": {
            "image/png": "[encoded data removed]",
            "text/plain": [
              "<Figure size 432x288 with 1 Axes>"
            ]
          },
          "metadata": {
            "tags": []
          }
        }
      ]
    },
    {
      "cell_type": "code",
      "metadata": {
        "id": "8zTbNbJgW5sv",
        "colab_type": "code",
        "outputId": "32918744-a1c2-4cc4-82bf-cafe4f025a4d",
        "colab": {}
      },
      "source": [
        "acc = history.history['acc']\n",
        "val_acc = history.history['val_acc']\n",
        "plt.plot(epochs, acc, color='red', label='Training acc')\n",
        "plt.plot(epochs, val_acc, color='green', label='Validation acc')\n",
        "plt.title('Training and validation accuracy')\n",
        "plt.xlabel('Epochs')\n",
        "plt.ylabel('Loss')\n",
        "plt.legend()\n",
        "plt.show()"
      ],
      "execution_count": 0,
      "outputs": [
        {
          "output_type": "display_data",
          "data": {
            "image/png": "[encoded data removed]",
            "text/plain": [
              "<Figure size 432x288 with 1 Axes>"
            ]
          },
          "metadata": {
            "tags": []
          }
        }
      ]
    },
    {
      "cell_type": "code",
      "metadata": {
        "id": "Cp3FIiHYW5s1",
        "colab_type": "code",
        "outputId": "39247970-ea98-41a3-ae11-ad1e41b7e4b5",
        "colab": {}
      },
      "source": [
        "from keras.preprocessing import image\n",
        "import numpy as np\n",
        "from keras.models import load_model\n",
        "from keras.models import Model\n",
        "#model = load_model('model.h5')\n",
        "test_image =image.load_img('G:\\state-farm-distracted-driver-detection\\img5.jpg',target_size = (32,32))\n",
        "test_image = image.img_to_array(test_image)\n",
        "test_image = np.expand_dims(test_image,axis=0)\n",
        "images = np.vstack([test_image])\n",
        "classes =loaded_model2.predict(images)\n",
        "print (classes)"
      ],
      "execution_count": 0,
      "outputs": [
        {
          "output_type": "stream",
          "text": [
            "[[0. 0. 0. 0. 0. 1. 0. 0. 0. 0.]]\n"
          ],
          "name": "stdout"
        }
      ]
    },
    {
      "cell_type": "code",
      "metadata": {
        "id": "s6glRSdYW5s5",
        "colab_type": "code",
        "outputId": "962a7d12-c7e5-41bb-ce10-428bd25d8023",
        "colab": {}
      },
      "source": [
        "from keras.optimizers import SGD\n",
        "epochs=10\n",
        "alpha = 0.01\n",
        "decay = alpha/epochs\n",
        "sgd = SGD(lr=alpha, momentum=0.9, decay=decay, nesterov=False)\n",
        "loaded_model2.compile(loss='categorical_crossentropy', optimizer=sgd, metrics=['accuracy'])\n",
        "loss=loaded_model2.evaluate_generator(validation_generator3,steps=800)\n",
        "print(\"Loss: \" + str(loss[0]) + \"     Accuracy \" + str(loss[1]))"
      ],
      "execution_count": 0,
      "outputs": [
        {
          "output_type": "stream",
          "text": [
            "Loss: 0.26233537408318053     Accuracy 0.9239249843063403\n"
          ],
          "name": "stdout"
        }
      ]
    },
    {
      "cell_type": "code",
      "metadata": {
        "id": "maqX_tvhW5s_",
        "colab_type": "code",
        "outputId": "97b33f99-afa9-4a21-be8e-64577d70e0ee",
        "colab": {}
      },
      "source": [
        "#Alexnet\n",
        "shape = (77,77,3)\n",
        "\n",
        "classifier = Sequential()\n",
        "\n",
        "classifier.add(Conv2D(96,(5,5),strides = (2,2),input_shape=shape,activation = 'relu'))\n",
        "classifier.add(MaxPooling2D(pool_size=(2,2),strides =(2,2)))\n",
        "classifier.add(Conv2D(256,(3,3),activation = 'relu'))\n",
        "classifier.add(MaxPooling2D(pool_size=(2,2),strides =(2,2)))\n",
        "classifier.add(Conv2D(384,3,3,activation = 'relu'))\n",
        "classifier.add(Conv2D(384,3,3,activation = 'relu'))\n",
        "classifier.add(Conv2D(384,3,3,activation = 'relu'))\n",
        "classifier.add(MaxPooling2D(pool_size=(2,2),strides =(2,2)))\n",
        "\n",
        "classifier.add(Flatten())\n",
        "classifier.add(Dense(4096, input_shape=shape,activation = 'relu'))\n",
        "classifier.add(Dropout(0.4))\n",
        "classifier.add(Dense(4096, activation = 'relu'))\n",
        "classifier.add(Dropout(0.4))\n",
        "classifier.add(Dense(1000, activation = 'relu'))\n",
        "classifier.add(Dropout(0.4))\n",
        "classifier.add(Dense(10, activation = 'softmax'))\n",
        "classifier.summary()\n",
        "\n",
        "epochs = 10\n",
        "alpha = 0.01\n",
        "decay = alpha/epochs\n",
        "sgd = SGD(lr=alpha, momentum=0.9, decay=decay, nesterov=False)\n",
        "classifier.compile(loss='categorical_crossentropy', optimizer=sgd, metrics=['accuracy'])\n",
        "history=classifier.fit_generator(train_generator1, samples_per_epoch=25764, nb_epoch=epochs, \n",
        "                    validation_data=validation_generator1, nb_val_samples=800)"
      ],
      "execution_count": 0,
      "outputs": [
        {
          "output_type": "stream",
          "text": [
            "C:\\Users\\ACER\\Anaconda3\\lib\\site-packages\\ipykernel_launcher.py:10: UserWarning: Update your `Conv2D` call to the Keras 2 API: `Conv2D(384, (3, 3), activation=\"relu\")`\n",
            "  # Remove the CWD from sys.path while we load stuff.\n",
            "C:\\Users\\ACER\\Anaconda3\\lib\\site-packages\\ipykernel_launcher.py:11: UserWarning: Update your `Conv2D` call to the Keras 2 API: `Conv2D(384, (3, 3), activation=\"relu\")`\n",
            "  # This is added back by InteractiveShellApp.init_path()\n",
            "C:\\Users\\ACER\\Anaconda3\\lib\\site-packages\\ipykernel_launcher.py:12: UserWarning: Update your `Conv2D` call to the Keras 2 API: `Conv2D(384, (3, 3), activation=\"relu\")`\n",
            "  if sys.path[0] == '':\n"
          ],
          "name": "stderr"
        },
        {
          "output_type": "stream",
          "text": [
            "_________________________________________________________________\n",
            "Layer (type)                 Output Shape              Param #   \n",
            "=================================================================\n",
            "conv2d_11 (Conv2D)           (None, 37, 37, 96)        7296      \n",
            "_________________________________________________________________\n",
            "max_pooling2d_7 (MaxPooling2 (None, 18, 18, 96)        0         \n",
            "_________________________________________________________________\n",
            "conv2d_12 (Conv2D)           (None, 16, 16, 256)       221440    \n",
            "_________________________________________________________________\n",
            "max_pooling2d_8 (MaxPooling2 (None, 8, 8, 256)         0         \n",
            "_________________________________________________________________\n",
            "conv2d_13 (Conv2D)           (None, 6, 6, 384)         885120    \n",
            "_________________________________________________________________\n",
            "conv2d_14 (Conv2D)           (None, 4, 4, 384)         1327488   \n",
            "_________________________________________________________________\n",
            "conv2d_15 (Conv2D)           (None, 2, 2, 384)         1327488   \n",
            "_________________________________________________________________\n",
            "max_pooling2d_9 (MaxPooling2 (None, 1, 1, 384)         0         \n",
            "_________________________________________________________________\n",
            "flatten_3 (Flatten)          (None, 384)               0         \n",
            "_________________________________________________________________\n",
            "dense_9 (Dense)              (None, 4096)              1576960   \n",
            "_________________________________________________________________\n",
            "dropout_7 (Dropout)          (None, 4096)              0         \n",
            "_________________________________________________________________\n",
            "dense_10 (Dense)             (None, 4096)              16781312  \n",
            "_________________________________________________________________\n",
            "dropout_8 (Dropout)          (None, 4096)              0         \n",
            "_________________________________________________________________\n",
            "dense_11 (Dense)             (None, 1000)              4097000   \n",
            "_________________________________________________________________\n",
            "dropout_9 (Dropout)          (None, 1000)              0         \n",
            "_________________________________________________________________\n",
            "dense_12 (Dense)             (None, 10)                10010     \n",
            "=================================================================\n",
            "Total params: 26,234,114\n",
            "Trainable params: 26,234,114\n",
            "Non-trainable params: 0\n",
            "_________________________________________________________________\n"
          ],
          "name": "stdout"
        },
        {
          "output_type": "stream",
          "text": [
            "C:\\Users\\ACER\\Anaconda3\\lib\\site-packages\\ipykernel_launcher.py:31: UserWarning: The semantics of the Keras 2 argument `steps_per_epoch` is not the same as the Keras 1 argument `samples_per_epoch`. `steps_per_epoch` is the number of batches to draw from the generator at each epoch. Basically steps_per_epoch = samples_per_epoch/batch_size. Similarly `nb_val_samples`->`validation_steps` and `val_samples`->`steps` arguments have changed. Update your method calls accordingly.\n",
            "C:\\Users\\ACER\\Anaconda3\\lib\\site-packages\\ipykernel_launcher.py:31: UserWarning: Update your `fit_generator` call to the Keras 2 API: `fit_generator(<keras_pre..., validation_data=<keras_pre..., steps_per_epoch=805, epochs=10, validation_steps=800)`\n"
          ],
          "name": "stderr"
        },
        {
          "output_type": "stream",
          "text": [
            "Epoch 1/10\n",
            "805/805 [==============================] - 2176s 3s/step - loss: 2.3024 - acc: 0.1041 - val_loss: 2.3016 - val_acc: 0.1025\n",
            "Epoch 2/10\n",
            "805/805 [==============================] - 1735s 2s/step - loss: 2.2971 - acc: 0.1161 - val_loss: 2.2617 - val_acc: 0.1485\n",
            "Epoch 3/10\n",
            "805/805 [==============================] - 1727s 2s/step - loss: 2.0568 - acc: 0.1995 - val_loss: 1.8073 - val_acc: 0.2806\n",
            "Epoch 4/10\n",
            "805/805 [==============================] - 1740s 2s/step - loss: 1.5096 - acc: 0.4235 - val_loss: 1.4227 - val_acc: 0.4886\n",
            "Epoch 5/10\n",
            "805/805 [==============================] - 1736s 2s/step - loss: 0.9516 - acc: 0.6574 - val_loss: 0.7795 - val_acc: 0.7233\n",
            "Epoch 6/10\n",
            "805/805 [==============================] - 1727s 2s/step - loss: 0.5882 - acc: 0.7979 - val_loss: 0.4370 - val_acc: 0.8538\n",
            "Epoch 7/10\n",
            "805/805 [==============================] - 1741s 2s/step - loss: 0.3932 - acc: 0.8715 - val_loss: 0.2778 - val_acc: 0.9086\n",
            "Epoch 8/10\n",
            "805/805 [==============================] - 1740s 2s/step - loss: 0.2910 - acc: 0.9083 - val_loss: 0.2158 - val_acc: 0.9306\n",
            "Epoch 9/10\n",
            "805/805 [==============================] - 1737s 2s/step - loss: 0.2133 - acc: 0.9328 - val_loss: 0.2157 - val_acc: 0.9353\n",
            "Epoch 10/10\n",
            "805/805 [==============================] - 1800s 2s/step - loss: 0.1761 - acc: 0.9451 - val_loss: 0.1601 - val_acc: 0.9516\n"
          ],
          "name": "stdout"
        }
      ]
    },
    {
      "cell_type": "code",
      "metadata": {
        "id": "M6F4VpVfW5tD",
        "colab_type": "code",
        "outputId": "b4c32749-0ad0-4c76-f304-f75b30c519ec",
        "colab": {}
      },
      "source": [
        "classifier.save('classifier.h5')\n",
        "classifier_json = classifier.to_json()\n",
        "with open(\"classifier.json\", \"w\") as json_file:\n",
        "    json_file.write(classifier_json)\n",
        "# serialize weights to HDF5\n",
        "classifier.save_weights(\"classifier.h5\")\n",
        "print(\"Saved model to disk\")"
      ],
      "execution_count": 0,
      "outputs": [
        {
          "output_type": "stream",
          "text": [
            "Saved model to disk\n"
          ],
          "name": "stdout"
        }
      ]
    },
    {
      "cell_type": "code",
      "metadata": {
        "id": "dU2EQTKeW5tH",
        "colab_type": "code",
        "outputId": "2fc76c16-efbf-43b8-d9a7-3b7c54c1238c",
        "colab": {}
      },
      "source": [
        "from keras.models import model_from_json\n",
        "json_file = open('classifier.json', 'r')\n",
        "loaded_model_json = json_file.read()\n",
        "json_file.close()\n",
        "loaded_classifier = model_from_json(loaded_model_json)\n",
        "# load weights into new model\n",
        "loaded_classifier.load_weights(\"classifier.h5\")\n",
        "print(\"Loaded model from disk\")"
      ],
      "execution_count": 0,
      "outputs": [
        {
          "output_type": "stream",
          "text": [
            "Loaded model from disk\n"
          ],
          "name": "stdout"
        }
      ]
    },
    {
      "cell_type": "code",
      "metadata": {
        "id": "1qgXn5TMW5tP",
        "colab_type": "code",
        "outputId": "41d97fdc-9865-4a59-d738-30cfc3657ebe",
        "colab": {}
      },
      "source": [
        "import matplotlib.pyplot as plt\n",
        "loss = history.history['loss']\n",
        "val_loss = history.history['val_loss']\n",
        "epochs = range(1, len(loss) + 1)\n",
        "plt.plot(epochs, loss, color='red', label='Training loss')\n",
        "plt.plot(epochs, val_loss, color='green', label='Validation loss')\n",
        "plt.title('Training and validation loss')\n",
        "plt.xlabel('Epochs')\n",
        "plt.ylabel('Loss')\n",
        "plt.legend()\n",
        "plt.show()"
      ],
      "execution_count": 0,
      "outputs": [
        {
          "output_type": "display_data",
          "data": {
            "image/png": "[encoded data removed]",
            "text/plain": [
              "<Figure size 432x288 with 1 Axes>"
            ]
          },
          "metadata": {
            "tags": []
          }
        }
      ]
    },
    {
      "cell_type": "code",
      "metadata": {
        "id": "JBId2yOKW5tV",
        "colab_type": "code",
        "outputId": "b994541d-887d-466c-b402-2ce4e0083f0d",
        "colab": {}
      },
      "source": [
        "acc = history.history['acc']\n",
        "val_acc = history.history['val_acc']\n",
        "plt.plot(epochs, acc, color='red', label='Training acc')\n",
        "plt.plot(epochs, val_acc, color='green', label='Validation acc')\n",
        "plt.title('Training and validation accuracy')\n",
        "plt.xlabel('Epochs')\n",
        "plt.ylabel('Loss')\n",
        "plt.legend()\n",
        "plt.show()"
      ],
      "execution_count": 0,
      "outputs": [
        {
          "output_type": "display_data",
          "data": {
            "image/png": "[encoded data removed]",
            "text/plain": [
              "<Figure size 432x288 with 1 Axes>"
            ]
          },
          "metadata": {
            "tags": []
          }
        }
      ]
    },
    {
      "cell_type": "code",
      "metadata": {
        "id": "3wom4X1bW5tc",
        "colab_type": "code",
        "outputId": "2d4f99e0-2932-4a58-c9d8-d585a1de1469",
        "colab": {}
      },
      "source": [
        "from keras.optimizers import SGD\n",
        "epochs=10\n",
        "alpha = 0.01\n",
        "decay = alpha/epochs\n",
        "sgd = SGD(lr=alpha, momentum=0.9, decay=decay, nesterov=False)\n",
        "loaded_classifier.compile(loss='categorical_crossentropy', optimizer=sgd, metrics=['accuracy'])\n",
        "loss=loaded_classifier.evaluate_generator(validation_generator1,steps=800)\n",
        "print(\"Loss: \" + str(loss[0]) + \"     Accuracy \" + str(loss[1]))"
      ],
      "execution_count": 0,
      "outputs": [
        {
          "output_type": "stream",
          "text": [
            "Loss: 0.16407773003414916     Accuracy 0.9497018204645323\n"
          ],
          "name": "stdout"
        }
      ]
    },
    {
      "cell_type": "code",
      "metadata": {
        "id": "Mtb-I0vJW5tg",
        "colab_type": "code",
        "outputId": "de7deaf7-043e-42aa-a85e-77ec9622d244",
        "colab": {}
      },
      "source": [
        "from keras.preprocessing import image\n",
        "import numpy as np\n",
        "from keras.models import load_model\n",
        "from keras.models import Model\n",
        "#model = load_model('model.h5')\n",
        "test_image =image.load_img('G:\\state-farm-distracted-driver-detection\\img5.jpg',target_size = (77,77))\n",
        "test_image = image.img_to_array(test_image)\n",
        "test_image = np.expand_dims(test_image,axis=0)\n",
        "images = np.vstack([test_image])\n",
        "classes =loaded_classifier.predict(images)\n",
        "print (classes)"
      ],
      "execution_count": 0,
      "outputs": [
        {
          "output_type": "stream",
          "text": [
            "[[0. 0. 0. 0. 0. 1. 0. 0. 0. 0.]]\n"
          ],
          "name": "stdout"
        }
      ]
    }
  ]
}